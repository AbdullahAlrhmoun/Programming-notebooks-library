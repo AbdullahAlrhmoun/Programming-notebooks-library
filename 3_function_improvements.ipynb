{
 "cells": [
  {
   "cell_type": "markdown",
   "metadata": {},
   "source": [
    "# Improving Your Code\n",
    "\n",
    "### Skills in this Excercise\n",
    "* Checking for incorrect inputs\n",
    "* Improving functions for edge cases\n",
    "* Debugging\n",
    "\n",
    "### Improving Your Function\n",
    "\n",
    "Your `probability_uniform` function should work at this point. But, you might run into a couple of problems. \n",
    "\n",
    "1. What happens if you call your function like this: `probability_range(35, 20, 0, 360)` ?\n",
    "2. What happens if you input an angle that is outside the possibilities of the bottle's possible outcomes like probability_range(-25, 390, 0, 360)?\n",
    "3. What if you call your function like this: probability_range('a', 'b', 0, 360)?\n",
    "\n",
    "When writing functions, it's important to think of edge cases or incorrect user input. \n",
    "\n",
    "Here are three more task to help deal with these situations:\n",
    "* Make sure the function outputs a valid probability when low_range is greater than high_range. Hint: there is more than one way to do this: \n",
    "  * For example, using absolute value\n",
    " * comparing low_range and high_range  to see which one is greater\n",
    "* Check the inputs to the function to make sure they are not strings. If the user inputted a string, the function should return None. Optionally, print out a message to the user as well explaining why the function put out None. This exercise might seem trivial, but if you try to do something like `'my_string'/2` in python, you will get an error. Debugging the errors and avoiding them is a key programming skill. \n",
    "* Check that the user has only inputted low_range and high_range values that are in between minimum and maximum. If an input is out of the allowed range, return None. Optionally, print out a message to the user as well explaining why the function put out None.\n",
    "\n",
    "Write a function called `probability_range_improved` that takes into account these three tasks."
   ]
  },
  {
   "cell_type": "markdown",
   "metadata": {},
   "source": [
    "Fill out the TODOs. Then run the cells to see if your output is as expected"
   ]
  },
  {
   "cell_type": "code",
   "execution_count": 1,
   "metadata": {},
   "outputs": [],
   "source": [
    "def probability_range_improved(low_range, high_range, minimum, maximum):\n",
    "\n",
    "    message = []\n",
    "\n",
    "    if isinstance(low_range, str) or isinstance(high_range, str) or isinstance(minimum, str) or isinstance(maximum, str):\n",
    "        print('Inputs should be numbers not strings')\n",
    "        return\n",
    "\n",
    "    # check that low_range is between min and max\n",
    "    if low_range < minimum or low_range > maximum:\n",
    "        message.append('Your first input needs to be between the minimum and maximum values')\n",
    "\n",
    "    # check that high_range is between min and max\n",
    "    if high_range < minimum or high_range > maximum:\n",
    "        message.append('Your second input needs to be between the minimum and maximum values')\n",
    "\n",
    "    # if no messages created, then calculate the probability\n",
    "    if not message:\n",
    "        return abs((high_range - low_range)/(maximum-minimum))\n",
    "    else:\n",
    "        for msg in message:\n",
    "            print(msg + '\\n')\n",
    "        return"
   ]
  },
  {
   "cell_type": "markdown",
   "metadata": {},
   "source": [
    "Run the cell below. If there are no AssertionErrors, then your code runs as expected. In Python, assert checks whether a statement\n",
    "resolves to True or False"
   ]
  },
  {
   "cell_type": "code",
   "execution_count": 2,
   "metadata": {},
   "outputs": [
    {
     "name": "stdout",
     "output_type": "stream",
     "text": [
      "Inputs should be numbers not strings\n",
      "Your first input needs to be between the minimum and maximum values\n",
      "\n",
      "Your second input needs to be between the minimum and maximum values\n",
      "\n"
     ]
    }
   ],
   "source": [
    "assert probability_range_improved('a', 0, -100, 500) == None\n",
    "assert probability_range_improved(-100, 300, 100, 500) == None\n",
    "assert probability_range_improved(105, 700, 100, 500) == None\n",
    "assert \"{0:.2f}\".format(probability_range_improved(25, 700, 5, 800)) == '0.85'\n",
    "assert \"{0:.2f}\".format(probability_range_improved(700, 25, 5, 800)) == '0.85'"
   ]
  },
  {
   "cell_type": "code",
   "execution_count": null,
   "metadata": {
    "collapsed": true
   },
   "outputs": [],
   "source": []
  }
 ],
 "metadata": {
  "kernelspec": {
   "display_name": "Python [default]",
   "language": "python",
   "name": "python3"
  },
  "language_info": {
   "codemirror_mode": {
    "name": "ipython",
    "version": 3
   },
   "file_extension": ".py",
   "mimetype": "text/x-python",
   "name": "python",
   "nbconvert_exporter": "python",
   "pygments_lexer": "ipython3",
   "version": "3.6.2"
  }
 },
 "nbformat": 4,
 "nbformat_minor": 2
}
